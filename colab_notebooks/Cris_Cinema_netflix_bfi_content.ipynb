{
  "nbformat": 4,
  "nbformat_minor": 0,
  "metadata": {
    "colab": {
      "provenance": []
    },
    "kernelspec": {
      "name": "python3",
      "display_name": "Python 3"
    },
    "language_info": {
      "name": "python"
    }
  },
  "cells": [
    {
      "cell_type": "markdown",
      "source": [
        "# Iteration 1"
      ],
      "metadata": {
        "id": "7n-GGv699fUp"
      }
    },
    {
      "cell_type": "markdown",
      "source": [
        "## Connecting Colabs to BigQuery project"
      ],
      "metadata": {
        "id": "UNsQVnYD9ecZ"
      }
    },
    {
      "cell_type": "code",
      "execution_count": null,
      "metadata": {
        "colab": {
          "base_uri": "https://localhost:8080/"
        },
        "id": "hiwT0F1c7DYq",
        "outputId": "22109b27-934f-4fb5-f7cc-79ea8579a836"
      },
      "outputs": [
        {
          "output_type": "stream",
          "name": "stdout",
          "text": [
            "Requirement already satisfied: google-cloud-bigquery in /usr/local/lib/python3.11/dist-packages (3.34.0)\n",
            "Requirement already satisfied: google-api-core<3.0.0,>=2.11.1 in /usr/local/lib/python3.11/dist-packages (from google-api-core[grpc]<3.0.0,>=2.11.1->google-cloud-bigquery) (2.25.0)\n",
            "Requirement already satisfied: google-auth<3.0.0,>=2.14.1 in /usr/local/lib/python3.11/dist-packages (from google-cloud-bigquery) (2.38.0)\n",
            "Requirement already satisfied: google-cloud-core<3.0.0,>=2.4.1 in /usr/local/lib/python3.11/dist-packages (from google-cloud-bigquery) (2.4.3)\n",
            "Requirement already satisfied: google-resumable-media<3.0.0,>=2.0.0 in /usr/local/lib/python3.11/dist-packages (from google-cloud-bigquery) (2.7.2)\n",
            "Requirement already satisfied: packaging>=24.2.0 in /usr/local/lib/python3.11/dist-packages (from google-cloud-bigquery) (24.2)\n",
            "Requirement already satisfied: python-dateutil<3.0.0,>=2.8.2 in /usr/local/lib/python3.11/dist-packages (from google-cloud-bigquery) (2.9.0.post0)\n",
            "Requirement already satisfied: requests<3.0.0,>=2.21.0 in /usr/local/lib/python3.11/dist-packages (from google-cloud-bigquery) (2.32.3)\n",
            "Requirement already satisfied: googleapis-common-protos<2.0.0,>=1.56.2 in /usr/local/lib/python3.11/dist-packages (from google-api-core<3.0.0,>=2.11.1->google-api-core[grpc]<3.0.0,>=2.11.1->google-cloud-bigquery) (1.70.0)\n",
            "Requirement already satisfied: protobuf!=3.20.0,!=3.20.1,!=4.21.0,!=4.21.1,!=4.21.2,!=4.21.3,!=4.21.4,!=4.21.5,<7.0.0,>=3.19.5 in /usr/local/lib/python3.11/dist-packages (from google-api-core<3.0.0,>=2.11.1->google-api-core[grpc]<3.0.0,>=2.11.1->google-cloud-bigquery) (5.29.5)\n",
            "Requirement already satisfied: proto-plus<2.0.0,>=1.22.3 in /usr/local/lib/python3.11/dist-packages (from google-api-core<3.0.0,>=2.11.1->google-api-core[grpc]<3.0.0,>=2.11.1->google-cloud-bigquery) (1.26.1)\n",
            "Requirement already satisfied: grpcio<2.0.0,>=1.33.2 in /usr/local/lib/python3.11/dist-packages (from google-api-core[grpc]<3.0.0,>=2.11.1->google-cloud-bigquery) (1.73.0)\n",
            "Requirement already satisfied: grpcio-status<2.0.0,>=1.33.2 in /usr/local/lib/python3.11/dist-packages (from google-api-core[grpc]<3.0.0,>=2.11.1->google-cloud-bigquery) (1.71.0)\n",
            "Requirement already satisfied: cachetools<6.0,>=2.0.0 in /usr/local/lib/python3.11/dist-packages (from google-auth<3.0.0,>=2.14.1->google-cloud-bigquery) (5.5.2)\n",
            "Requirement already satisfied: pyasn1-modules>=0.2.1 in /usr/local/lib/python3.11/dist-packages (from google-auth<3.0.0,>=2.14.1->google-cloud-bigquery) (0.4.2)\n",
            "Requirement already satisfied: rsa<5,>=3.1.4 in /usr/local/lib/python3.11/dist-packages (from google-auth<3.0.0,>=2.14.1->google-cloud-bigquery) (4.9.1)\n",
            "Requirement already satisfied: google-crc32c<2.0dev,>=1.0 in /usr/local/lib/python3.11/dist-packages (from google-resumable-media<3.0.0,>=2.0.0->google-cloud-bigquery) (1.7.1)\n",
            "Requirement already satisfied: six>=1.5 in /usr/local/lib/python3.11/dist-packages (from python-dateutil<3.0.0,>=2.8.2->google-cloud-bigquery) (1.17.0)\n",
            "Requirement already satisfied: charset-normalizer<4,>=2 in /usr/local/lib/python3.11/dist-packages (from requests<3.0.0,>=2.21.0->google-cloud-bigquery) (3.4.2)\n",
            "Requirement already satisfied: idna<4,>=2.5 in /usr/local/lib/python3.11/dist-packages (from requests<3.0.0,>=2.21.0->google-cloud-bigquery) (3.10)\n",
            "Requirement already satisfied: urllib3<3,>=1.21.1 in /usr/local/lib/python3.11/dist-packages (from requests<3.0.0,>=2.21.0->google-cloud-bigquery) (2.4.0)\n",
            "Requirement already satisfied: certifi>=2017.4.17 in /usr/local/lib/python3.11/dist-packages (from requests<3.0.0,>=2.21.0->google-cloud-bigquery) (2025.4.26)\n",
            "Requirement already satisfied: pyasn1<0.7.0,>=0.6.1 in /usr/local/lib/python3.11/dist-packages (from pyasn1-modules>=0.2.1->google-auth<3.0.0,>=2.14.1->google-cloud-bigquery) (0.6.1)\n"
          ]
        }
      ],
      "source": [
        "#  Install Required Packages in Colab\n",
        "!pip install --upgrade google-cloud-bigquery"
      ]
    },
    {
      "cell_type": "code",
      "source": [
        "# Authenticate with Google Account\n",
        "from google.colab import auth\n",
        "auth.authenticate_user()"
      ],
      "metadata": {
        "id": "qQkdaCRn7mfW"
      },
      "execution_count": null,
      "outputs": []
    },
    {
      "cell_type": "code",
      "source": [
        "from google.colab import files\n",
        "uploaded = files.upload()"
      ],
      "metadata": {
        "colab": {
          "base_uri": "https://localhost:8080/",
          "height": 74
        },
        "id": "eX_Iltmm8ka9",
        "outputId": "c4750b1b-2f5f-4a3a-9d81-0698f83b0809"
      },
      "execution_count": null,
      "outputs": [
        {
          "output_type": "display_data",
          "data": {
            "text/plain": [
              "<IPython.core.display.HTML object>"
            ],
            "text/html": [
              "\n",
              "     <input type=\"file\" id=\"files-809faac7-d840-45bf-a1a7-20c0706002a8\" name=\"files[]\" multiple disabled\n",
              "        style=\"border:none\" />\n",
              "     <output id=\"result-809faac7-d840-45bf-a1a7-20c0706002a8\">\n",
              "      Upload widget is only available when the cell has been executed in the\n",
              "      current browser session. Please rerun this cell to enable.\n",
              "      </output>\n",
              "      <script>// Copyright 2017 Google LLC\n",
              "//\n",
              "// Licensed under the Apache License, Version 2.0 (the \"License\");\n",
              "// you may not use this file except in compliance with the License.\n",
              "// You may obtain a copy of the License at\n",
              "//\n",
              "//      http://www.apache.org/licenses/LICENSE-2.0\n",
              "//\n",
              "// Unless required by applicable law or agreed to in writing, software\n",
              "// distributed under the License is distributed on an \"AS IS\" BASIS,\n",
              "// WITHOUT WARRANTIES OR CONDITIONS OF ANY KIND, either express or implied.\n",
              "// See the License for the specific language governing permissions and\n",
              "// limitations under the License.\n",
              "\n",
              "/**\n",
              " * @fileoverview Helpers for google.colab Python module.\n",
              " */\n",
              "(function(scope) {\n",
              "function span(text, styleAttributes = {}) {\n",
              "  const element = document.createElement('span');\n",
              "  element.textContent = text;\n",
              "  for (const key of Object.keys(styleAttributes)) {\n",
              "    element.style[key] = styleAttributes[key];\n",
              "  }\n",
              "  return element;\n",
              "}\n",
              "\n",
              "// Max number of bytes which will be uploaded at a time.\n",
              "const MAX_PAYLOAD_SIZE = 100 * 1024;\n",
              "\n",
              "function _uploadFiles(inputId, outputId) {\n",
              "  const steps = uploadFilesStep(inputId, outputId);\n",
              "  const outputElement = document.getElementById(outputId);\n",
              "  // Cache steps on the outputElement to make it available for the next call\n",
              "  // to uploadFilesContinue from Python.\n",
              "  outputElement.steps = steps;\n",
              "\n",
              "  return _uploadFilesContinue(outputId);\n",
              "}\n",
              "\n",
              "// This is roughly an async generator (not supported in the browser yet),\n",
              "// where there are multiple asynchronous steps and the Python side is going\n",
              "// to poll for completion of each step.\n",
              "// This uses a Promise to block the python side on completion of each step,\n",
              "// then passes the result of the previous step as the input to the next step.\n",
              "function _uploadFilesContinue(outputId) {\n",
              "  const outputElement = document.getElementById(outputId);\n",
              "  const steps = outputElement.steps;\n",
              "\n",
              "  const next = steps.next(outputElement.lastPromiseValue);\n",
              "  return Promise.resolve(next.value.promise).then((value) => {\n",
              "    // Cache the last promise value to make it available to the next\n",
              "    // step of the generator.\n",
              "    outputElement.lastPromiseValue = value;\n",
              "    return next.value.response;\n",
              "  });\n",
              "}\n",
              "\n",
              "/**\n",
              " * Generator function which is called between each async step of the upload\n",
              " * process.\n",
              " * @param {string} inputId Element ID of the input file picker element.\n",
              " * @param {string} outputId Element ID of the output display.\n",
              " * @return {!Iterable<!Object>} Iterable of next steps.\n",
              " */\n",
              "function* uploadFilesStep(inputId, outputId) {\n",
              "  const inputElement = document.getElementById(inputId);\n",
              "  inputElement.disabled = false;\n",
              "\n",
              "  const outputElement = document.getElementById(outputId);\n",
              "  outputElement.innerHTML = '';\n",
              "\n",
              "  const pickedPromise = new Promise((resolve) => {\n",
              "    inputElement.addEventListener('change', (e) => {\n",
              "      resolve(e.target.files);\n",
              "    });\n",
              "  });\n",
              "\n",
              "  const cancel = document.createElement('button');\n",
              "  inputElement.parentElement.appendChild(cancel);\n",
              "  cancel.textContent = 'Cancel upload';\n",
              "  const cancelPromise = new Promise((resolve) => {\n",
              "    cancel.onclick = () => {\n",
              "      resolve(null);\n",
              "    };\n",
              "  });\n",
              "\n",
              "  // Wait for the user to pick the files.\n",
              "  const files = yield {\n",
              "    promise: Promise.race([pickedPromise, cancelPromise]),\n",
              "    response: {\n",
              "      action: 'starting',\n",
              "    }\n",
              "  };\n",
              "\n",
              "  cancel.remove();\n",
              "\n",
              "  // Disable the input element since further picks are not allowed.\n",
              "  inputElement.disabled = true;\n",
              "\n",
              "  if (!files) {\n",
              "    return {\n",
              "      response: {\n",
              "        action: 'complete',\n",
              "      }\n",
              "    };\n",
              "  }\n",
              "\n",
              "  for (const file of files) {\n",
              "    const li = document.createElement('li');\n",
              "    li.append(span(file.name, {fontWeight: 'bold'}));\n",
              "    li.append(span(\n",
              "        `(${file.type || 'n/a'}) - ${file.size} bytes, ` +\n",
              "        `last modified: ${\n",
              "            file.lastModifiedDate ? file.lastModifiedDate.toLocaleDateString() :\n",
              "                                    'n/a'} - `));\n",
              "    const percent = span('0% done');\n",
              "    li.appendChild(percent);\n",
              "\n",
              "    outputElement.appendChild(li);\n",
              "\n",
              "    const fileDataPromise = new Promise((resolve) => {\n",
              "      const reader = new FileReader();\n",
              "      reader.onload = (e) => {\n",
              "        resolve(e.target.result);\n",
              "      };\n",
              "      reader.readAsArrayBuffer(file);\n",
              "    });\n",
              "    // Wait for the data to be ready.\n",
              "    let fileData = yield {\n",
              "      promise: fileDataPromise,\n",
              "      response: {\n",
              "        action: 'continue',\n",
              "      }\n",
              "    };\n",
              "\n",
              "    // Use a chunked sending to avoid message size limits. See b/62115660.\n",
              "    let position = 0;\n",
              "    do {\n",
              "      const length = Math.min(fileData.byteLength - position, MAX_PAYLOAD_SIZE);\n",
              "      const chunk = new Uint8Array(fileData, position, length);\n",
              "      position += length;\n",
              "\n",
              "      const base64 = btoa(String.fromCharCode.apply(null, chunk));\n",
              "      yield {\n",
              "        response: {\n",
              "          action: 'append',\n",
              "          file: file.name,\n",
              "          data: base64,\n",
              "        },\n",
              "      };\n",
              "\n",
              "      let percentDone = fileData.byteLength === 0 ?\n",
              "          100 :\n",
              "          Math.round((position / fileData.byteLength) * 100);\n",
              "      percent.textContent = `${percentDone}% done`;\n",
              "\n",
              "    } while (position < fileData.byteLength);\n",
              "  }\n",
              "\n",
              "  // All done.\n",
              "  yield {\n",
              "    response: {\n",
              "      action: 'complete',\n",
              "    }\n",
              "  };\n",
              "}\n",
              "\n",
              "scope.google = scope.google || {};\n",
              "scope.google.colab = scope.google.colab || {};\n",
              "scope.google.colab._files = {\n",
              "  _uploadFiles,\n",
              "  _uploadFilesContinue,\n",
              "};\n",
              "})(self);\n",
              "</script> "
            ]
          },
          "metadata": {}
        },
        {
          "output_type": "stream",
          "name": "stdout",
          "text": [
            "Saving cinemaparadiso-462409-f2ba92221c1f.json to cinemaparadiso-462409-f2ba92221c1f.json\n"
          ]
        }
      ]
    },
    {
      "cell_type": "code",
      "source": [
        "from google.oauth2 import service_account\n",
        "from google.cloud import bigquery\n",
        "\n",
        "key_path = \"cinemaparadiso-462409-f2ba92221c1f.json\"\n",
        "\n",
        "credentials = service_account.Credentials.from_service_account_file(key_path)\n",
        "\n",
        "project_id = \"cinemaparadiso-462409\"\n",
        "\n",
        "client = bigquery.Client(credentials=credentials, project=project_id)\n",
        "client = bigquery.Client(project=\"cinemaparadiso-462409\")"
      ],
      "metadata": {
        "id": "nRFSjWEd9KBr"
      },
      "execution_count": null,
      "outputs": []
    },
    {
      "cell_type": "code",
      "source": [
        "import pandas as pd"
      ],
      "metadata": {
        "id": "FhC8_5hFAGAE"
      },
      "execution_count": null,
      "outputs": []
    },
    {
      "cell_type": "code",
      "source": [
        "# Read table cleaned_imdb_movies\n",
        "query = \"SELECT * FROM `cinemaparadiso-462409.cinema_paradiso.fa_general_cinema_bfi_netflix_merged`\"\n",
        "df_general_cinema_bfi_netflix = client.query(query).to_dataframe()\n",
        "\n",
        "# Read table cleaned_imdb_movies\n",
        "query = \"SELECT * FROM `cinemaparadiso-462409.cinema_paradiso.fa_list_statistics_imdb_merged_bygenre`\"\n",
        "df_movie_scores = client.query(query).to_dataframe()\n",
        "\n",
        "# Read table cleaned_imdb_movies\n",
        "query = \"SELECT * FROM `cinemaparadiso-462409.cinema_paradiso.ba_general_cinema_bfi_netflic_merged_without_filtering`\"\n",
        "df_general_cinema_bfi_netflix_no_filter = client.query(query).to_dataframe()"
      ],
      "metadata": {
        "id": "CgJTZBPt93g1"
      },
      "execution_count": null,
      "outputs": []
    },
    {
      "cell_type": "markdown",
      "source": [
        "## UpSet Plot"
      ],
      "metadata": {
        "id": "EqVL9FjFIDmo"
      }
    },
    {
      "cell_type": "code",
      "source": [
        "# Libraries to create Venn diagrams and UpSet plots:\n",
        "!pip install matplotlib-venn\n",
        "!pip install upsetplot"
      ],
      "metadata": {
        "colab": {
          "base_uri": "https://localhost:8080/"
        },
        "id": "uC3PZITLzch9",
        "outputId": "f52ca99b-d162-4a78-cada-0ef63bb19517"
      },
      "execution_count": null,
      "outputs": [
        {
          "output_type": "stream",
          "name": "stdout",
          "text": [
            "Requirement already satisfied: matplotlib-venn in /usr/local/lib/python3.11/dist-packages (1.1.2)\n",
            "Requirement already satisfied: matplotlib in /usr/local/lib/python3.11/dist-packages (from matplotlib-venn) (3.10.0)\n",
            "Requirement already satisfied: numpy in /usr/local/lib/python3.11/dist-packages (from matplotlib-venn) (2.0.2)\n",
            "Requirement already satisfied: scipy in /usr/local/lib/python3.11/dist-packages (from matplotlib-venn) (1.15.3)\n",
            "Requirement already satisfied: contourpy>=1.0.1 in /usr/local/lib/python3.11/dist-packages (from matplotlib->matplotlib-venn) (1.3.2)\n",
            "Requirement already satisfied: cycler>=0.10 in /usr/local/lib/python3.11/dist-packages (from matplotlib->matplotlib-venn) (0.12.1)\n",
            "Requirement already satisfied: fonttools>=4.22.0 in /usr/local/lib/python3.11/dist-packages (from matplotlib->matplotlib-venn) (4.58.2)\n",
            "Requirement already satisfied: kiwisolver>=1.3.1 in /usr/local/lib/python3.11/dist-packages (from matplotlib->matplotlib-venn) (1.4.8)\n",
            "Requirement already satisfied: packaging>=20.0 in /usr/local/lib/python3.11/dist-packages (from matplotlib->matplotlib-venn) (24.2)\n",
            "Requirement already satisfied: pillow>=8 in /usr/local/lib/python3.11/dist-packages (from matplotlib->matplotlib-venn) (11.2.1)\n",
            "Requirement already satisfied: pyparsing>=2.3.1 in /usr/local/lib/python3.11/dist-packages (from matplotlib->matplotlib-venn) (3.2.3)\n",
            "Requirement already satisfied: python-dateutil>=2.7 in /usr/local/lib/python3.11/dist-packages (from matplotlib->matplotlib-venn) (2.9.0.post0)\n",
            "Requirement already satisfied: six>=1.5 in /usr/local/lib/python3.11/dist-packages (from python-dateutil>=2.7->matplotlib->matplotlib-venn) (1.17.0)\n",
            "Requirement already satisfied: upsetplot in /usr/local/lib/python3.11/dist-packages (0.9.0)\n",
            "Requirement already satisfied: pandas>=0.23 in /usr/local/lib/python3.11/dist-packages (from upsetplot) (2.2.2)\n",
            "Requirement already satisfied: matplotlib>=2.0 in /usr/local/lib/python3.11/dist-packages (from upsetplot) (3.10.0)\n",
            "Requirement already satisfied: contourpy>=1.0.1 in /usr/local/lib/python3.11/dist-packages (from matplotlib>=2.0->upsetplot) (1.3.2)\n",
            "Requirement already satisfied: cycler>=0.10 in /usr/local/lib/python3.11/dist-packages (from matplotlib>=2.0->upsetplot) (0.12.1)\n",
            "Requirement already satisfied: fonttools>=4.22.0 in /usr/local/lib/python3.11/dist-packages (from matplotlib>=2.0->upsetplot) (4.58.2)\n",
            "Requirement already satisfied: kiwisolver>=1.3.1 in /usr/local/lib/python3.11/dist-packages (from matplotlib>=2.0->upsetplot) (1.4.8)\n",
            "Requirement already satisfied: numpy>=1.23 in /usr/local/lib/python3.11/dist-packages (from matplotlib>=2.0->upsetplot) (2.0.2)\n",
            "Requirement already satisfied: packaging>=20.0 in /usr/local/lib/python3.11/dist-packages (from matplotlib>=2.0->upsetplot) (24.2)\n",
            "Requirement already satisfied: pillow>=8 in /usr/local/lib/python3.11/dist-packages (from matplotlib>=2.0->upsetplot) (11.2.1)\n",
            "Requirement already satisfied: pyparsing>=2.3.1 in /usr/local/lib/python3.11/dist-packages (from matplotlib>=2.0->upsetplot) (3.2.3)\n",
            "Requirement already satisfied: python-dateutil>=2.7 in /usr/local/lib/python3.11/dist-packages (from matplotlib>=2.0->upsetplot) (2.9.0.post0)\n",
            "Requirement already satisfied: pytz>=2020.1 in /usr/local/lib/python3.11/dist-packages (from pandas>=0.23->upsetplot) (2025.2)\n",
            "Requirement already satisfied: tzdata>=2022.7 in /usr/local/lib/python3.11/dist-packages (from pandas>=0.23->upsetplot) (2025.2)\n",
            "Requirement already satisfied: six>=1.5 in /usr/local/lib/python3.11/dist-packages (from python-dateutil>=2.7->matplotlib>=2.0->upsetplot) (1.17.0)\n"
          ]
        }
      ]
    },
    {
      "cell_type": "code",
      "source": [
        "from upsetplot import UpSet, from_memberships\n",
        "import matplotlib.pyplot as plt"
      ],
      "metadata": {
        "id": "JYm-3GP2zdhv"
      },
      "execution_count": null,
      "outputs": []
    },
    {
      "cell_type": "code",
      "source": [
        "# UpSet PLOT TO REPRESENT OVERLAPPING AND UNIQUE CONTENT:\n",
        "\n",
        "# Create a membership list per row\n",
        "df_general_cinema_bfi_netflix['set'] = df_general_cinema_bfi_netflix.apply(\n",
        "    lambda row: [source for source in ['General', 'Cinema', 'Netflix', 'BFI'] if row[f'in_{source.lower()}'] == 1],\n",
        "    axis=1\n",
        ")\n",
        "\n",
        "# Generate UpSet data from the list of source memberships\n",
        "upset_data = from_memberships(df_general_cinema_bfi_netflix['set'])\n",
        "\n",
        "# Create the plot\n",
        "UpSet(upset_data, subset_size='count', show_counts=True).plot()\n",
        "plt.title(\"Movie Overlap Across Platforms\")\n",
        "plt.show()\n"
      ],
      "metadata": {
        "colab": {
          "base_uri": "https://localhost:8080/",
          "height": 981
        },
        "id": "Ti_cssdt0aPN",
        "outputId": "42fa1d14-517a-4422-db72-1d0478e25a36"
      },
      "execution_count": null,
      "outputs": [
        {
          "output_type": "stream",
          "name": "stderr",
          "text": [
            "/usr/local/lib/python3.11/dist-packages/upsetplot/data.py:303: FutureWarning: Downcasting object dtype arrays on .fillna, .ffill, .bfill is deprecated and will change in a future version. Call result.infer_objects(copy=False) instead. To opt-in to the future behavior, set `pd.set_option('future.no_silent_downcasting', True)`\n",
            "  df.fillna(False, inplace=True)\n",
            "/usr/local/lib/python3.11/dist-packages/upsetplot/plotting.py:795: FutureWarning: A value is trying to be set on a copy of a DataFrame or Series through chained assignment using an inplace method.\n",
            "The behavior will change in pandas 3.0. This inplace method will never work because the intermediate object on which we are setting values always behaves as a copy.\n",
            "\n",
            "For example, when doing 'df[col].method(value, inplace=True)', try using 'df.method({col: value}, inplace=True)' or df[col] = df[col].method(value) instead, to perform the operation inplace on the original object.\n",
            "\n",
            "\n",
            "  styles[\"linewidth\"].fillna(1, inplace=True)\n",
            "/usr/local/lib/python3.11/dist-packages/upsetplot/plotting.py:796: FutureWarning: A value is trying to be set on a copy of a DataFrame or Series through chained assignment using an inplace method.\n",
            "The behavior will change in pandas 3.0. This inplace method will never work because the intermediate object on which we are setting values always behaves as a copy.\n",
            "\n",
            "For example, when doing 'df[col].method(value, inplace=True)', try using 'df.method({col: value}, inplace=True)' or df[col] = df[col].method(value) instead, to perform the operation inplace on the original object.\n",
            "\n",
            "\n",
            "  styles[\"facecolor\"].fillna(self._facecolor, inplace=True)\n",
            "/usr/local/lib/python3.11/dist-packages/upsetplot/plotting.py:797: FutureWarning: A value is trying to be set on a copy of a DataFrame or Series through chained assignment using an inplace method.\n",
            "The behavior will change in pandas 3.0. This inplace method will never work because the intermediate object on which we are setting values always behaves as a copy.\n",
            "\n",
            "For example, when doing 'df[col].method(value, inplace=True)', try using 'df.method({col: value}, inplace=True)' or df[col] = df[col].method(value) instead, to perform the operation inplace on the original object.\n",
            "\n",
            "\n",
            "  styles[\"edgecolor\"].fillna(styles[\"facecolor\"], inplace=True)\n",
            "/usr/local/lib/python3.11/dist-packages/upsetplot/plotting.py:798: FutureWarning: A value is trying to be set on a copy of a DataFrame or Series through chained assignment using an inplace method.\n",
            "The behavior will change in pandas 3.0. This inplace method will never work because the intermediate object on which we are setting values always behaves as a copy.\n",
            "\n",
            "For example, when doing 'df[col].method(value, inplace=True)', try using 'df.method({col: value}, inplace=True)' or df[col] = df[col].method(value) instead, to perform the operation inplace on the original object.\n",
            "\n",
            "\n",
            "  styles[\"linestyle\"].fillna(\"solid\", inplace=True)\n"
          ]
        },
        {
          "output_type": "display_data",
          "data": {
            "text/plain": [
              "<Figure size 844.444x444.444 with 4 Axes>"
            ],
            "image/png": "[encoded data removed]"
          },
          "metadata": {}
        }
      ]
    },
    {
      "cell_type": "markdown",
      "source": [
        "## Venn diagram"
      ],
      "metadata": {
        "id": "qKpmJNvWIRNv"
      }
    },
    {
      "cell_type": "code",
      "source": [
        "# VEN DIAGRAM TO COMPARE ONLY CINEMA, NETFLIX AND BFI\n",
        "\n",
        "\n",
        "from matplotlib_venn import venn3\n",
        "\n",
        "# Define each group\n",
        "cinema_set = set(df_general_cinema_bfi_netflix_no_filter[df_general_cinema_bfi_netflix_no_filter['in_cinema'] == 1]['title'])\n",
        "netflix_set = set(df_general_cinema_bfi_netflix_no_filter[df_general_cinema_bfi_netflix_no_filter['in_netflix'] == 1]['title'])\n",
        "bfi_set    = set(df_general_cinema_bfi_netflix_no_filter[df_general_cinema_bfi_netflix_no_filter['in_bfi'] == 1]['title'])\n",
        "\n",
        "# Total number of unique titles across all sets\n",
        "total = len(cinema_set | netflix_set | bfi_set)\n",
        "\n",
        "# Plot Venn\n",
        "venn = venn3([cinema_set, netflix_set, bfi_set],\n",
        "        set_labels=('Cinema', 'Netflix', 'BFI'),\n",
        "        subset_label_formatter=lambda x: f\"{x / total:.1%}\" if x else '',\n",
        "        set_colors=('#c54848','#ff8c69' ,'#fed6c9')  # Cinema, Netflix, BFI\n",
        ")\n",
        "\n",
        "# Improve visual clarity\n",
        "for patch in venn.patches:\n",
        "    if patch:\n",
        "        patch.set_alpha(0.8)\n",
        "        patch.set_edgecolor('white')\n",
        "\n",
        "plt.title(\"Movie Overlap Between Cinema, Netflix, and BFI\")\n",
        "plt.show()"
      ],
      "metadata": {
        "colab": {
          "base_uri": "https://localhost:8080/",
          "height": 428
        },
        "id": "RP_Ur9xZB3gA",
        "outputId": "8edf7be1-798a-4231-aeaf-5286b2d614fc"
      },
      "execution_count": null,
      "outputs": [
        {
          "output_type": "display_data",
          "data": {
            "text/plain": [
              "<Figure size 640x480 with 1 Axes>"
            ],
            "image/png": "[encoded data removed]"
          },
          "metadata": {}
        }
      ]
    },
    {
      "cell_type": "code",
      "source": [
        "# I want to create a bar chart where I show for each genre, how many times it is present in each of the platforms.\n",
        "# Check the columns\n",
        "df_general_cinema_bfi_netflix.columns"
      ],
      "metadata": {
        "colab": {
          "base_uri": "https://localhost:8080/"
        },
        "id": "lIvZlxov5-W6",
        "outputId": "dbbf898a-ab1f-44b4-d67f-159d5bf53284"
      },
      "execution_count": null,
      "outputs": [
        {
          "output_type": "execute_result",
          "data": {
            "text/plain": [
              "Index(['title', 'year', 'score_general', 'score_cinema', 'score_netflix',\n",
              "       'score_bfi', 'action', 'adventure', 'animation', 'comedy', 'crime',\n",
              "       'documentary', 'drama', 'family', 'fantasy', 'history', 'horror',\n",
              "       'music', 'mystery', 'romance', 'scifi', 'tv_movie', 'thriller', 'war',\n",
              "       'western', 'biography', 'film_noir', 'in_general', 'in_cinema',\n",
              "       'in_netflix', 'in_bfi', 'source_count', 'set'],\n",
              "      dtype='object')"
            ]
          },
          "metadata": {},
          "execution_count": 13
        }
      ]
    },
    {
      "cell_type": "code",
      "source": [
        "# BAR CHART TABLE (number of movies per genre, per platform)\n",
        "\n",
        "# create a list with the genres\n",
        "genres = [\n",
        "    'action', 'adventure', 'animation', 'comedy', 'crime',\n",
        "    'documentary', 'drama', 'family', 'fantasy', 'history', 'horror',\n",
        "    'music', 'mystery', 'romance', 'scifi', 'tv_movie', 'thriller',\n",
        "    'war', 'western', 'biography', 'film_noir'\n",
        "]\n",
        "\n",
        "# create a dictionary with the platforms\n",
        "platforms = {\n",
        "    'in_cinema': 'Cinema',\n",
        "    'in_netflix': 'Netflix',\n",
        "    'in_bfi': 'BFI',\n",
        "    'in_general': 'General'\n",
        "}\n",
        "\n",
        "# Create a list to collect the rows\n",
        "list = []\n",
        "\n",
        "# Loop over each genre and inside each loop, inside every platform\n",
        "for genre in genres:\n",
        "    for platform_column, platform_name in platforms.items():\n",
        "        # Filter the DataFrame to movies with this genre AND on this platform\n",
        "        filtered = df_general_cinema_bfi_netflix_no_filter[(df_general_cinema_bfi_netflix_no_filter[genre] == 1) & (df_general_cinema_bfi_netflix_no_filter[platform_column] == 1)]\n",
        "        count = len(filtered)\n",
        "\n",
        "        # Store the result\n",
        "        list.append({'genre': genre, 'platform': platform_name, 'movie_count': count})\n",
        "\n",
        "# Convert the result to a DataFrame\n",
        "fa_general_cinema_netflix_bfi_pergenre_without_filtering = pd.DataFrame(list)\n",
        "\n",
        "# create a csv file\n",
        "csv_filename = 'fa_general_cinema_netflix_bfi_pergenre_without_filtering.csv'\n",
        "fa_general_cinema_netflix_bfi_pergenre_without_filtering.to_csv(csv_filename, index=False)\n"
      ],
      "metadata": {
        "id": "GX33iRb26g9Q"
      },
      "execution_count": null,
      "outputs": []
    },
    {
      "cell_type": "markdown",
      "source": [
        "## Data Organisation"
      ],
      "metadata": {
        "id": "lt_rBuUrIWev"
      }
    },
    {
      "cell_type": "code",
      "source": [
        "# HEATMAP TABLE (average score per genre, per platform)\n",
        "\n",
        "# Step 1: Build the long-form DataFrame with avg_score by genre & platform\n",
        "results = []\n",
        "\n",
        "genre_hm = [\n",
        "    'action', 'adventure', 'animation', 'comedy', 'crime',\n",
        "    'documentary', 'drama', 'family', 'fantasy', 'history', 'horror',\n",
        "    'music', 'mystery', 'romance', 'scifi', 'tv_movie', 'thriller',\n",
        "    'war', 'western', 'biography', 'film_noir'\n",
        "]\n",
        "\n",
        "# Loop through each genre and platform, calculate avg_score\n",
        "for genre in genre_hm:\n",
        "    for plat in ['in_cinema', 'in_netflix', 'in_bfi']:\n",
        "        mask = (df_general_cinema_bfi_netflix[genre] == 1) & (df_general_cinema_bfi_netflix[plat] == 1)\n",
        "        avg = df_general_cinema_bfi_netflix.loc[mask, 'score_general'].mean()\n",
        "        results.append({\n",
        "            'genre': genre,\n",
        "            'platform': plat.replace('in_', '').capitalize(),  # e.g. \"Cinema\"\n",
        "            'avg_score': avg\n",
        "        })\n",
        "\n",
        "# Convert to DataFrame\n",
        "fa_heatmap_long = pd.DataFrame(results)\n",
        "\n",
        "# Step 2: Pivot to wide format: genres as rows, platforms as columns\n",
        "fa_heatmap_wide = fa_heatmap_long.pivot(index='genre', columns='platform', values='avg_score')\n",
        "\n",
        "# Step 3: Sort by Cinema column (descending)\n",
        "fa_heatmap_sorted = fa_heatmap_wide.sort_values(by='Cinema', ascending=False).reset_index()\n",
        "\n",
        "# Step 4: Export to CSV\n",
        "csv_filename = 'fa_heatmap_sorted_by_cinema.csv'\n",
        "fa_heatmap_sorted.to_csv(csv_filename, index=False)\n"
      ],
      "metadata": {
        "id": "L_HHqGFSvM4g"
      },
      "execution_count": null,
      "outputs": []
    },
    {
      "cell_type": "code",
      "source": [
        "fa_heatmap_sorted.info()"
      ],
      "metadata": {
        "colab": {
          "base_uri": "https://localhost:8080/"
        },
        "id": "Mwy2tT3CY9sS",
        "outputId": "6de24bcc-5124-4ee5-e498-e3602241540b"
      },
      "execution_count": null,
      "outputs": [
        {
          "output_type": "stream",
          "name": "stdout",
          "text": [
            "<class 'pandas.core.frame.DataFrame'>\n",
            "RangeIndex: 21 entries, 0 to 20\n",
            "Data columns (total 4 columns):\n",
            " #   Column   Non-Null Count  Dtype  \n",
            "---  ------   --------------  -----  \n",
            " 0   genre    21 non-null     object \n",
            " 1   Bfi      18 non-null     float64\n",
            " 2   Cinema   20 non-null     float64\n",
            " 3   Netflix  19 non-null     float64\n",
            "dtypes: float64(3), object(1)\n",
            "memory usage: 804.0+ bytes\n"
          ]
        }
      ]
    }
  ]
}